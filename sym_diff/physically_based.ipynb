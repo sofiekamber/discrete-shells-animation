{
 "cells": [
  {
   "cell_type": "code",
   "execution_count": null,
   "metadata": {},
   "outputs": [],
   "source": [
    "x1, x2, x3, x4 = var('x1 x2 x3 x4', domain='real')\n",
    "y1, y2, y3, y4 = var('y1 y2 y3 y4', domain='real')\n",
    "z1, z2, z3, z4 = var('z1 z2 z3 z4', domain='real')\n",
    "\n",
    "p1 = vector((x1, y1, z1))\n",
    "p2 = vector((x2, y2, z2))\n",
    "p3 = vector((x3, y3, z3))\n",
    "p4 = vector((x4, y4, z4))\n",
    "\n",
    "e1 = p2-p1\n",
    "e2 = p3-p1\n",
    "e3 = p4-p1\n",
    "\n",
    "n1 = e1.cross_product(e2)\n",
    "n2 = e3.cross_product(e1)"
   ]
  },
  {
   "cell_type": "code",
   "execution_count": null,
   "metadata": {},
   "outputs": [],
   "source": [
    "tan_theta = n1.cross_product(n2).norm() / (n1*n2)\n",
    "theta = atan2(n2.cross_product(n1).norm(), n1*n2)"
   ]
  },
  {
   "cell_type": "code",
   "execution_count": null,
   "metadata": {},
   "outputs": [],
   "source": [
    "psi = var('psi')\n",
    "plot(theta.subs({x1:0,y1:0,z1:0, x2:1,y2:0,z2:0, x3:1,y3:1,z3:0, x4:0,y4:sin(psi),z4:cos(psi)}), (psi, 0, 10))"
   ]
  },
  {
   "cell_type": "code",
   "execution_count": null,
   "metadata": {},
   "outputs": [],
   "source": [
    "e_bar = var('e_bar')\n",
    "theta_bar = var('theta_bar')\n",
    "h_bar = var('h_bar')\n",
    "\n",
    "E = (theta - theta_bar) * (theta -theta_bar) * e_bar / h_bar"
   ]
  },
  {
   "cell_type": "code",
   "execution_count": null,
   "metadata": {},
   "outputs": [],
   "source": [
    "from sympy.utilities.codegen import codegen\n",
    "from sympy.simplify.cse_main import cse\n",
    "from sympy.printing.pycode import pycode\n",
    "from sympy.printing import ccode\n",
    "\n",
    "vars = [x1, y1, z1, x2, y2, z2, x3, y3, z3, x4, y4, z4]\n",
    "#indexed_hessian = ['d' + pycode(i) + pycode(j) for i in vars for j in vars]\n",
    "#hessian = [E.diff(i).diff(j)._sympy_() for i in vars for j in vars]"
   ]
  },
  {
   "cell_type": "code",
   "execution_count": null,
   "metadata": {},
   "outputs": [],
   "source": [
    "from sage.calculus.functions import jacobian\n",
    "J = jacobian(E, vars)\n",
    "H = jacobian(J, vars)"
   ]
  },
  {
   "cell_type": "code",
   "execution_count": null,
   "metadata": {},
   "outputs": [],
   "source": [
    "[(c_name, c_code), (h_name, c_header)] = codegen(('J', J), 'C', 'flex_hessian')"
   ]
  },
  {
   "cell_type": "code",
   "execution_count": null,
   "metadata": {},
   "outputs": [],
   "source": [
    "lhs, rhs = cse(hessian)\n",
    "len(lhs)\n",
    "len(rhs)"
   ]
  },
  {
   "cell_type": "code",
   "execution_count": null,
   "metadata": {},
   "outputs": [],
   "source": [
    "codegen_list =[(pycode(v), t) for v, t in lhs] + list(zip(indexed_hessian, hessian))\n",
    "[(c_name, c_code), (h_name, c_header)] = codegen(codegen_list, 'C', 'flex_hessian')"
   ]
  },
  {
   "cell_type": "code",
   "execution_count": null,
   "metadata": {},
   "outputs": [],
   "source": [
    "o = open(c_name, 'w')\n",
    "o.write(c_code)"
   ]
  },
  {
   "cell_type": "code",
   "execution_count": null,
   "metadata": {},
   "outputs": [],
   "source": [
    "output = \"\"\n",
    "for v, t in lhs:\n",
    "    print(pycode(v) + ' = ' + pycode(t) )\n",
    "for v, t in zip(indexed_hessian, rhs):\n",
    "    print(v + ' = ' + pycode(t))"
   ]
  },
  {
   "cell_type": "code",
   "execution_count": null,
   "metadata": {},
   "outputs": [],
   "source": [
    "output"
   ]
  },
  {
   "cell_type": "code",
   "execution_count": null,
   "metadata": {},
   "outputs": [],
   "source": [
    "[(c_name, c_code), (h_name, c_header)] = codegen((\"f\", theta._sympy_()), \"C\", \"test\")\n",
    "print(c_code)"
   ]
  },
  {
   "cell_type": "code",
   "execution_count": null,
   "metadata": {},
   "outputs": [],
   "source": [
    "from sympy.utilities.autowrap import autowrap\n",
    "func = autowrap(theta._sympy_())"
   ]
  },
  {
   "cell_type": "code",
   "execution_count": null,
   "metadata": {},
   "outputs": [],
   "source": [
    "func(0,1,1,0, 0,0,1,0, 0,0,0,1)\n",
    "func(0,1,1,0, 0,0,1,-1, 0,0,0,0)\n",
    "func(0,1,1,0, 0,0,1,1, 0,0,0,1)"
   ]
  },
  {
   "cell_type": "code",
   "execution_count": null,
   "metadata": {},
   "outputs": [],
   "source": [
    "float(pi/4)"
   ]
  },
  {
   "cell_type": "code",
   "execution_count": null,
   "metadata": {},
   "outputs": [],
   "source": []
  }
 ],
 "metadata": {
  "kernelspec": {
   "display_name": "SageMath 10.1",
   "language": "sage",
   "name": "sagemath"
  },
  "language_info": {
   "codemirror_mode": {
    "name": "ipython",
    "version": 3
   },
   "file_extension": ".py",
   "mimetype": "text/x-python",
   "name": "python",
   "nbconvert_exporter": "python",
   "pygments_lexer": "ipython3",
   "version": "3.11.6"
  }
 },
 "nbformat": 4,
 "nbformat_minor": 4
}
