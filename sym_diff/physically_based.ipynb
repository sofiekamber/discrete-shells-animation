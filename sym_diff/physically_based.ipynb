{
 "cells": [
  {
   "cell_type": "code",
   "execution_count": null,
   "metadata": {},
   "outputs": [],
   "source": [
    "x1, x2, x3, x4 = var('x1 x2 x3 x4', domain='real')\n",
    "y1, y2, y3, y4 = var('y1 y2 y3 y4', domain='real')\n",
    "z1, z2, z3, z4 = var('z1 z2 z3 z4', domain='real')\n",
    "\n",
    "p1 = vector((x1, y1, z1))\n",
    "p2 = vector((x2, y2, z2))\n",
    "p3 = vector((x3, y3, z3))\n",
    "p4 = vector((x4, y4, z4))\n",
    "\n",
    "e1 = p2-p1\n",
    "e2 = p3-p1\n",
    "e3 = p4-p1\n",
    "\n",
    "n1 = e1.cross_product(e2)\n",
    "n2 = e3.cross_product(e1)"
   ]
  },
  {
   "cell_type": "code",
   "execution_count": null,
   "metadata": {},
   "outputs": [],
   "source": [
    "tan_theta = n1.cross_product(n2).norm() / (n1*n2)\n",
    "theta = atan2(n2.cross_product(n1).norm(), n1*n2)"
   ]
  },
  {
   "cell_type": "code",
   "execution_count": null,
   "metadata": {},
   "outputs": [],
   "source": [
    "psi = var('psi')\n",
    "plot(theta.subs({x1:0,y1:0,z1:0, x2:1,y2:0,z2:0, x3:1,y3:1,z3:0, x4:0,y4:sin(psi),z4:cos(psi)}), (psi, 0, 10))"
   ]
  },
  {
   "cell_type": "code",
   "execution_count": null,
   "metadata": {},
   "outputs": [],
   "source": [
    "e_bar = var('e_bar')\n",
    "theta_bar = var('theta_bar')\n",
    "h_bar = var('h_bar')\n",
    "\n",
    "E = (theta - theta_bar) * (theta -theta_bar) * e_bar / h_bar"
   ]
  },
  {
   "cell_type": "code",
   "execution_count": null,
   "metadata": {},
   "outputs": [],
   "source": [
    "from sympy.utilities.codegen import codegen\n",
    "from sympy.simplify.cse_main import cse\n",
    "from sympy.printing.pycode import pycode\n",
    "from sympy.printing import ccode\n",
    "\n",
    "vars = [x1, y1, z1, x2, y2, z2, x3, y3, z3, x4, y4, z4]\n"
   ]
  },
  {
   "cell_type": "code",
   "execution_count": null,
   "metadata": {},
   "outputs": [],
   "source": [
    "indexed_hessian = ['d' + pycode(i) + pycode(j) for i in vars for j in vars]\n",
    "hessian = [E.diff(i).diff(j)._sympy_() for i in vars for j in vars]\n",
    "lhs, rhs = cse(hessian)"
   ]
  },
  {
   "cell_type": "code",
   "execution_count": null,
   "metadata": {},
   "outputs": [],
   "source": [
    "f = open(\"flex_H.py\", \"w\")\n",
    "f.write(\"\\\n",
    "import taichi as ti\\n\\\n",
    "import taichi.math as math\\n\\\n",
    "@ti.func\\n\\\n",
    "def flex_H(x1, y1, z1, x2, y2, z2, x3, y3, z3, x4, y4, z4, e_bar, theta_bar, h_bar):\\n\\\n",
    "\")\n",
    "for v, t in lhs:\n",
    "    f.write(' ' + pycode(v) + ' = ' + pycode(t) + '\\n')\n",
    "for idx, (v, t) in enumerate(zip(indexed_hessian, rhs)):\n",
    "    f.write(' ' + v+ ' = ' + pycode(t) + '\\n')\n",
    "\n",
    "f.write(\" return \")\n",
    "for v in indexed_hessian:\n",
    "    f.write( v + ', ')\n",
    "f.close()"
   ]
  },
  {
   "cell_type": "code",
   "execution_count": null,
   "metadata": {},
   "outputs": [],
   "source": [
    "indexed_jacobian = ['d' + pycode(i) for i in vars]\n",
    "jacobian = [E.diff(i)._sympy_() for i in vars]\n",
    "lhs, rhs = cse(jacobian)"
   ]
  },
  {
   "cell_type": "code",
   "execution_count": null,
   "metadata": {},
   "outputs": [],
   "source": [
    "f = open(\"flex_J.py\", \"w\")\n",
    "f.write(\"\\\n",
    "import taichi as ti\\n\\\n",
    "import taichi.math as math\\n\\\n",
    "@ti.func\\n\\\n",
    "def flex_J(x1, y1, z1, x2, y2, z2, x3, y3, z3, x4, y4, z4, e_bar, theta_bar, h_bar):\\n\\\n",
    "\")\n",
    "for v, t in lhs:\n",
    "    f.write(' ' + pycode(v) + ' = ' + pycode(t) + '\\n')\n",
    "for v, t in zip(indexed_jacobian, rhs):\n",
    "    f.write(' ' +v + ' = ' + pycode(t) + '\\n')\n",
    "f.write(\" return \")\n",
    "for v in indexed_jacobian:\n",
    "    f.write(v + ', ')\n",
    "f.close()"
   ]
  },
  {
   "cell_type": "markdown",
   "metadata": {},
   "source": [
    "## Edge length membrane energy"
   ]
  },
  {
   "cell_type": "code",
   "execution_count": null,
   "metadata": {},
   "outputs": [],
   "source": [
    "E= (1- e1.norm()/e_bar)**2 * e_bar\n",
    "vars = [x1, y1, z1, x2, y2, z2]\n",
    "pretty_print(E)"
   ]
  },
  {
   "cell_type": "code",
   "execution_count": null,
   "metadata": {},
   "outputs": [],
   "source": [
    "indexed_hessian = ['d' + pycode(i) + pycode(j) for i in vars for j in vars]\n",
    "hessian = [E.diff(i).diff(j)._sympy_() for i in vars for j in vars]\n",
    "lhs, rhs = cse(hessian)"
   ]
  },
  {
   "cell_type": "code",
   "execution_count": null,
   "metadata": {},
   "outputs": [],
   "source": [
    "f = open(\"edge_H.py\", \"w\")\n",
    "f.write(\"\\\n",
    "import taichi as ti\\n\\\n",
    "import taichi.math as math\\n\\\n",
    "@ti.func\\n\\\n",
    "def edge_H(x1, y1, z1, x2, y2, z2, e_bar):\\n\\\n",
    "\")\n",
    "for v, t in lhs:\n",
    "    f.write(' ' + pycode(v) + ' = ' + pycode(t) + '\\n')\n",
    "for idx, (v, t) in enumerate(zip(indexed_hessian, rhs)):\n",
    "    f.write(' ' + v+ ' = ' + pycode(t) + '\\n')\n",
    "\n",
    "f.write(\" return \")\n",
    "for v in indexed_hessian:\n",
    "    f.write( v + ', ')\n",
    "f.close()"
   ]
  },
  {
   "cell_type": "code",
   "execution_count": null,
   "metadata": {},
   "outputs": [],
   "source": [
    "indexed_jacobian = ['d' + pycode(i) for i in vars]\n",
    "jacobian = [E.diff(i)._sympy_() for i in vars]\n",
    "lhs, rhs = cse(jacobian)"
   ]
  },
  {
   "cell_type": "code",
   "execution_count": null,
   "metadata": {},
   "outputs": [],
   "source": [
    "f = open(\"edge_J.py\", \"w\")\n",
    "f.write(\"\\\n",
    "import taichi as ti\\n\\\n",
    "import taichi.math as math\\n\\\n",
    "@ti.func\\n\\\n",
    "def edge_J(x1, y1, z1, x2, y2, z2, e_bar) -> ti.types.vector(6, float):\\n\\\n",
    "\")\n",
    "for v, t in lhs:\n",
    "    f.write(' ' + pycode(v) + ' = ' + pycode(t) + '\\n')\n",
    "for v, t in zip(indexed_jacobian, rhs):\n",
    "    f.write(' ' +v + ' = ' + pycode(t) + '\\n')\n",
    "f.write(\" return \")\n",
    "for v in indexed_jacobian:\n",
    "    f.write(v + ', ')\n",
    "f.close()"
   ]
  },
  {
   "cell_type": "markdown",
   "metadata": {},
   "source": [
    "## Area membrane energy"
   ]
  },
  {
   "cell_type": "code",
   "execution_count": null,
   "metadata": {},
   "outputs": [],
   "source": [
    "A_bar = var('A_bar')\n",
    "A = n1.norm()/2\n",
    "E = (1 - A/A_bar)**2 * A_bar\n",
    "vars = [x1,y1,z1, x2,y2,z2, x3,y3,z3]\n",
    "pretty_print(E)"
   ]
  },
  {
   "cell_type": "code",
   "execution_count": null,
   "metadata": {},
   "outputs": [],
   "source": [
    "indexed_hessian = ['d' + pycode(i) + pycode(j) for i in vars for j in vars]\n",
    "hessian = [E.diff(i).diff(j)._sympy_() for i in vars for j in vars]\n",
    "lhs, rhs = cse(hessian)"
   ]
  },
  {
   "cell_type": "code",
   "execution_count": null,
   "metadata": {},
   "outputs": [],
   "source": [
    "f = open(\"area_H.py\", \"w\")\n",
    "f.write(\"\\\n",
    "import taichi as ti\\n\\\n",
    "import taichi.math as math\\n\\\n",
    "@ti.func\\n\\\n",
    "def area_H(x1, y1, z1, x2, y2, z2, x3, y3,z3, A_bar):\\n\\\n",
    "\")\n",
    "for v, t in lhs:\n",
    "    f.write(' ' + pycode(v) + ' = ' + pycode(t) + '\\n')\n",
    "for idx, (v, t) in enumerate(zip(indexed_hessian, rhs)):\n",
    "    f.write(' ' + v+ ' = ' + pycode(t) + '\\n')\n",
    "\n",
    "f.write(\" return \")\n",
    "for v in indexed_hessian:\n",
    "    f.write( v + ', ')\n",
    "f.close()"
   ]
  },
  {
   "cell_type": "code",
   "execution_count": null,
   "metadata": {},
   "outputs": [],
   "source": [
    "indexed_jacobian = ['d' + pycode(i) for i in vars]\n",
    "jacobian = [E.diff(i)._sympy_() for i in vars]\n",
    "lhs, rhs = cse(jacobian)"
   ]
  },
  {
   "cell_type": "code",
   "execution_count": null,
   "metadata": {},
   "outputs": [],
   "source": [
    "f = open(\"area_J.py\", \"w\")\n",
    "f.write(\"\\\n",
    "import taichi as ti\\n\\\n",
    "import taichi.math as math\\n\\\n",
    "@ti.func\\n\\\n",
    "def area_J(x1, y1, z1, x2, y2, z2, x3, y3,z3, A_bar):\\n\\\n",
    "\")\n",
    "for v, t in lhs:\n",
    "    f.write(' ' + pycode(v) + ' = ' + pycode(t) + '\\n')\n",
    "for v, t in zip(indexed_jacobian, rhs):\n",
    "    f.write(' ' +v + ' = ' + pycode(t) + '\\n')\n",
    "f.write(\" return \")\n",
    "for v in indexed_jacobian:\n",
    "    f.write(v + ', ')\n",
    "f.close()"
   ]
  },
  {
   "cell_type": "code",
   "execution_count": null,
   "metadata": {},
   "outputs": [],
   "source": []
  },
  {
   "cell_type": "code",
   "execution_count": null,
   "metadata": {},
   "outputs": [],
   "source": []
  }
 ],
 "metadata": {
  "kernelspec": {
   "display_name": "SageMath 10.1",
   "language": "sage",
   "name": "sagemath"
  },
  "language_info": {
   "codemirror_mode": {
    "name": "ipython",
    "version": 3
   },
   "file_extension": ".py",
   "mimetype": "text/x-python",
   "name": "python",
   "nbconvert_exporter": "python",
   "pygments_lexer": "ipython3",
   "version": "3.11.6"
  }
 },
 "nbformat": 4,
 "nbformat_minor": 4
}
